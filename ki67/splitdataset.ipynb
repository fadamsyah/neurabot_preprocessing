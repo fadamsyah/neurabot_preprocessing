{
 "cells": [
  {
   "cell_type": "code",
   "execution_count": 1,
   "metadata": {},
   "outputs": [],
   "source": [
    "# Reference\n",
    "# https://linuxhint.com/python_xml_to_dictionary/"
   ]
  },
  {
   "cell_type": "code",
   "execution_count": 80,
   "metadata": {},
   "outputs": [],
   "source": [
    "import os\n",
    "import xmltodict\n",
    "import math"
   ]
  },
  {
   "cell_type": "code",
   "execution_count": 6,
   "metadata": {},
   "outputs": [],
   "source": [
    "base = './data/ori'"
   ]
  },
  {
   "cell_type": "code",
   "execution_count": 38,
   "metadata": {},
   "outputs": [],
   "source": [
    "def convert2coco(base):\n",
    "    \n",
    "    def xml_to_dict(base, filename):\n",
    "        with open(os.path.join(base, filename), \"r\") as xml_obj:\n",
    "            my_dict = xmltodict.parse(xml_obj.read())\n",
    "            xml_obj.close()\n",
    "        return my_dict\n",
    "    \n",
    "    filenames = [filename for filename in os.listdir(base) if os.path.splitext(filename)[-1] == '.xml']\n",
    "    \n",
    "    annotations = {\n",
    "        \"type\": \"instances\",\n",
    "        \"images\": [],\n",
    "        \"categories\": [],\n",
    "        \"annotations\": []\n",
    "    }\n",
    "    \n",
    "    img2annots = {}\n",
    "\n",
    "    cls_dict = {}\n",
    "       \n",
    "    # Get all classes in the dataset\n",
    "    for filename in filenames:\n",
    "        ann  = xml_to_dict(base, filename)['annotation']\n",
    "        for obj in ann['object']:\n",
    "            cls_name = obj['name']\n",
    "            if cls_name not in cls_dict:\n",
    "                cls_dict[cls_name] = len(cls_dict) + 1\n",
    "    \n",
    "    img_id = 1\n",
    "    ann_id = 1\n",
    "    for filename in filenames:\n",
    "        img2annots[filename] = {\n",
    "            'data': None,\n",
    "            'annotations': [],\n",
    "            'num_objects': None\n",
    "        }\n",
    "        \n",
    "        ann  = xml_to_dict(base, filename)['annotation']\n",
    "            \n",
    "        for ann_obj in ann['object']:\n",
    "            bbx = ann_obj['bndbox']\n",
    "            xmin, ymin = int(bbx['xmin']), int(bbx['ymin'])\n",
    "            xmax, ymax = int(bbx['xmax']), int(bbx['ymax'])\n",
    "            dx = xmax - xmin\n",
    "            dy = ymax - ymin\n",
    "            \n",
    "            annot = {\n",
    "                \"id\": ann_id,\n",
    "                \"bbox\": [xmin, ymin, dx, dy],\n",
    "                \"image_id\": img_id,\n",
    "                \"category_id\": cls_dict[ann_obj['name']],\n",
    "                \"segmentation\": [],\n",
    "                \"area\": dx*dy,\n",
    "                \"iscrowd\": 0\n",
    "            }\n",
    "            annotations[\"annotations\"].append(annot)\n",
    "            ann_id = ann_id + 1\n",
    "            \n",
    "            img2annots[filename]['annotations'].append(annot)\n",
    "        \n",
    "        size = ann['size']\n",
    "        image = {\n",
    "            \"file_name\": ann['filename'],\n",
    "            \"height\":size['height'] ,\n",
    "            \"width\": size['width'],\n",
    "            \"id\": img_id\n",
    "        }\n",
    "        annotations[\"images\"].append(image)\n",
    "        img_id = img_id + 1\n",
    "        \n",
    "        img2annots[filename]['data'] = image       \n",
    "\n",
    "    for cls_name, cls_id in cls_dict.items():\n",
    "        annotations[\"categories\"].append({\n",
    "            \"supercategory\": \"none\",\n",
    "            \"name\": cls_name,\n",
    "            \"id\": cls_id\n",
    "        })\n",
    "        \n",
    "    for filename, val in img2annots.items():\n",
    "        img2annots[filename]['num_objects'] = {cls_id: 0 for _, cls_id in cls_dict.items()}\n",
    "        for obj in val['annotations']:\n",
    "            category_id = obj['category_id']\n",
    "            img2annots[filename]['num_objects'][category_id] = img2annots[filename]['num_objects'][category_id] + 1\n",
    "        \n",
    "    return annotations, img2annots"
   ]
  },
  {
   "cell_type": "code",
   "execution_count": 39,
   "metadata": {},
   "outputs": [],
   "source": [
    "annotations, img2annots = convert2coco(base)"
   ]
  },
  {
   "cell_type": "code",
   "execution_count": 127,
   "metadata": {},
   "outputs": [],
   "source": [
    "def train_test_split(img2annots, split_dictionary, max_iter=10):\n",
    "    total = sum([val for _, val in split_dictionary.items()])\n",
    "    split_dict = {key: val/total for key, val in split_dictionary.items()}\n",
    "\n",
    "    # Get the number of objects\n",
    "    temp = img2annots[list(img2annots.keys())[0]]['num_objects']\n",
    "    total_objects = {key: 0 for key, _ in temp.items()}\n",
    "    for key, val in img2annots.items():\n",
    "        for cat_id, cat_n in val['num_objects'].items():\n",
    "            total_objects[cat_id] = total_objects[cat_id] + cat_n\n",
    "    \n",
    "    # Get the spit_size for every set\n",
    "    total_img = len(img2annots.keys())\n",
    "    split_size = {}\n",
    "    split_size_img = {}\n",
    "    for key1, val1 in split_dict.items():\n",
    "        # annotations\n",
    "        split_size[key1] = {}\n",
    "        for key2, val2 in total_objects.items():\n",
    "            split_size[key1][key2] = math.ceil(val1*val2)\n",
    "        \n",
    "        # images\n",
    "        split_size_img[key1] = math.ceil(val1*total_img)\n",
    "            \n",
    "    split_img_dict = {}\n",
    "    start_idx = 0\n",
    "    for key, val in split_size_img.items():\n",
    "        split_img_dict[key] = [start_idx, min(start_idx + val, total_img)]\n",
    "        start_idx = start_idx + val\n",
    "        \n",
    "    print(split_img_dict)"
   ]
  },
  {
   "cell_type": "code",
   "execution_count": 128,
   "metadata": {},
   "outputs": [
    {
     "name": "stdout",
     "output_type": "stream",
     "text": [
      "{'train': [0, 108], 'val': [108, 144], 'test': [144, 180]}\n"
     ]
    }
   ],
   "source": [
    "split_dictionary = {\n",
    "    'train': 0.60,\n",
    "    'val': 0.20,\n",
    "    'test': 0.20\n",
    "}\n",
    "\n",
    "train_test_split(img2annots, split_dictionary)"
   ]
  },
  {
   "cell_type": "code",
   "execution_count": null,
   "metadata": {},
   "outputs": [],
   "source": []
  }
 ],
 "metadata": {
  "kernelspec": {
   "display_name": "Python 3",
   "language": "python",
   "name": "python3"
  },
  "language_info": {
   "codemirror_mode": {
    "name": "ipython",
    "version": 3
   },
   "file_extension": ".py",
   "mimetype": "text/x-python",
   "name": "python",
   "nbconvert_exporter": "python",
   "pygments_lexer": "ipython3",
   "version": "3.7.9"
  }
 },
 "nbformat": 4,
 "nbformat_minor": 4
}
