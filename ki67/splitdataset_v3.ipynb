{
 "cells": [
  {
   "cell_type": "code",
   "execution_count": 1,
   "metadata": {},
   "outputs": [],
   "source": [
    "from copy import deepcopy\n",
    "from utils import convert2coco, dataset_split, dataset_analysis\n",
    "from utils import coco_to_img2annots, img2annots_to_coco"
   ]
  },
  {
   "cell_type": "code",
   "execution_count": 2,
   "metadata": {},
   "outputs": [],
   "source": [
    "def split_by_num_objects(annotations, num_objects_split=120):\n",
    "    img2annots = coco_to_img2annots(annotations)\n",
    "    \n",
    "    img2annots1 = {\n",
    "        'type': img2annots['type'],\n",
    "        'categories': img2annots['categories'],\n",
    "        'img2annots': {}\n",
    "    }\n",
    "    \n",
    "    img2annots2 = deepcopy(img2annots1)\n",
    "    \n",
    "    for key, val in img2annots['img2annots'].items():\n",
    "        num_objects = 0\n",
    "        for _, no in val['num_objects'].items():\n",
    "            num_objects = num_objects + no\n",
    "        \n",
    "        if num_objects >= num_objects_split:\n",
    "            img2annots1['img2annots'][key] = val\n",
    "        else:\n",
    "            img2annots2['img2annots'][key] = val\n",
    "        \n",
    "    # print(len(img2annots1['img2annots']))\n",
    "    # print(len(img2annots2['img2annots']))\n",
    "    \n",
    "    return img2annots_to_coco(img2annots1), img2annots_to_coco(img2annots2)\n",
    "\n",
    "def concatenate_2_coco_annotations(annotations_1, annotations_2):\n",
    "    ########## IMPORTANT ##########\n",
    "    # Assumption: inputs have exactly the same type and categories\n",
    "    \n",
    "    annotations = deepcopy(annotations_1)\n",
    "    for key in ['images', 'annotations']:\n",
    "        for val in annotations_2[key]:\n",
    "            annotations[key].append(val)\n",
    "            \n",
    "    return annotations"
   ]
  },
  {
   "cell_type": "code",
   "execution_count": 3,
   "metadata": {},
   "outputs": [],
   "source": [
    "base = './data/ori'\n",
    "annotations = convert2coco(base)"
   ]
  },
  {
   "cell_type": "code",
   "execution_count": 4,
   "metadata": {},
   "outputs": [],
   "source": [
    "annotations_split_1, annotations_split_2 = split_by_num_objects(annotations)"
   ]
  },
  {
   "cell_type": "code",
   "execution_count": 5,
   "metadata": {},
   "outputs": [
    {
     "name": "stdout",
     "output_type": "stream",
     "text": [
      "The best error: 0.0018010042419455393\n",
      "The best error: 0.001405063577319903\n",
      "The best error: 0.00036472866103810173\n",
      "The best error: 0.0002759004374251383\n",
      "The best error: 0.00013706750286514443\n",
      "The best error: 1.4932601176013415e-05\n",
      "The best error: 1.2536952442713507e-05\n",
      "The best error: 0.003601535811706012\n",
      "The best error: 0.0015403511613274802\n",
      "The best error: 0.00034642956022512767\n",
      "The best error: 0.00011191001750778452\n",
      "The best error: 9.586982352836716e-05\n",
      "The best error: 2.676592449898526e-05\n",
      "The best error: 1.63736935978789e-05\n"
     ]
    }
   ],
   "source": [
    "split_dictionary = {\n",
    "    'train': 0.60,\n",
    "    'val': 0.20,\n",
    "    'test': 0.20\n",
    "}\n",
    "\n",
    "ann_split_1 = dataset_split(annotations_split_1, split_dictionary, 10000)\n",
    "ann_split_2 = dataset_split(annotations_split_2, split_dictionary, 10000)"
   ]
  },
  {
   "cell_type": "code",
   "execution_count": 6,
   "metadata": {},
   "outputs": [
    {
     "name": "stdout",
     "output_type": "stream",
     "text": [
      "-----------------------------------\n",
      "num_images          89\n",
      "num_objects      16228\n",
      "-----------------------------------\n",
      "num_images on each set\n",
      "\n",
      "train          54    0.607\n",
      "val            18    0.202\n",
      "test           17    0.191\n",
      "-----------------------------------\n",
      "num_objects on each set\n",
      "\n",
      "train        9757    0.601\n",
      "val          3217    0.198\n",
      "test         3254    0.201\n",
      "-----------------------------------\n",
      "Category: 1\n",
      "\n",
      "train        4471    0.602\n",
      "val          1478    0.199\n",
      "test         1482    0.199\n",
      "-----------------------------------\n",
      "Category: 2\n",
      "\n",
      "train        5286    0.601\n",
      "val          1739    0.198\n",
      "test         1772    0.201\n",
      "-----------------------------------\n"
     ]
    }
   ],
   "source": [
    "results_split_1 = dataset_analysis(ann_split_1)"
   ]
  },
  {
   "cell_type": "code",
   "execution_count": 7,
   "metadata": {},
   "outputs": [
    {
     "name": "stdout",
     "output_type": "stream",
     "text": [
      "-----------------------------------\n",
      "num_images          91\n",
      "num_objects       6911\n",
      "-----------------------------------\n",
      "num_images on each set\n",
      "\n",
      "train          55    0.604\n",
      "val            19    0.209\n",
      "test           17    0.187\n",
      "-----------------------------------\n",
      "num_objects on each set\n",
      "\n",
      "train        4149    0.600\n",
      "val          1382    0.200\n",
      "test         1380    0.200\n",
      "-----------------------------------\n",
      "Category: 1\n",
      "\n",
      "train        2347    0.601\n",
      "val           774    0.198\n",
      "test          786    0.201\n",
      "-----------------------------------\n",
      "Category: 2\n",
      "\n",
      "train        1802    0.600\n",
      "val           608    0.202\n",
      "test          594    0.198\n",
      "-----------------------------------\n"
     ]
    }
   ],
   "source": [
    "results_split_2 = dataset_analysis(ann_split_2)"
   ]
  },
  {
   "cell_type": "code",
   "execution_count": 8,
   "metadata": {},
   "outputs": [],
   "source": [
    "anns = {}\n",
    "for set_name in ['train', 'val', 'test']:\n",
    "    anns[set_name] = concatenate_2_coco_annotations(ann_split_1[set_name], ann_split_2[set_name])"
   ]
  },
  {
   "cell_type": "code",
   "execution_count": 9,
   "metadata": {},
   "outputs": [
    {
     "name": "stdout",
     "output_type": "stream",
     "text": [
      "-----------------------------------\n",
      "num_images         180\n",
      "num_objects      23139\n",
      "-----------------------------------\n",
      "num_images on each set\n",
      "\n",
      "train         109    0.606\n",
      "val            37    0.206\n",
      "test           34    0.189\n",
      "-----------------------------------\n",
      "num_objects on each set\n",
      "\n",
      "train       13906    0.601\n",
      "val          4599    0.199\n",
      "test         4634    0.200\n",
      "-----------------------------------\n",
      "Category: 1\n",
      "\n",
      "train        6818    0.601\n",
      "val          2252    0.199\n",
      "test         2268    0.200\n",
      "-----------------------------------\n",
      "Category: 2\n",
      "\n",
      "train        7088    0.601\n",
      "val          2347    0.199\n",
      "test         2366    0.200\n",
      "-----------------------------------\n"
     ]
    },
    {
     "data": {
      "text/plain": [
       "{'train': {'num_images': 109,\n",
       "  'num_objects': 13906,\n",
       "  'objects': {1: 6818, 2: 7088}},\n",
       " 'val': {'num_images': 37, 'num_objects': 4599, 'objects': {1: 2252, 2: 2347}},\n",
       " 'test': {'num_images': 34,\n",
       "  'num_objects': 4634,\n",
       "  'objects': {1: 2268, 2: 2366}}}"
      ]
     },
     "execution_count": 9,
     "metadata": {},
     "output_type": "execute_result"
    }
   ],
   "source": [
    "dataset_analysis(anns)"
   ]
  },
  {
   "cell_type": "code",
   "execution_count": null,
   "metadata": {},
   "outputs": [],
   "source": []
  }
 ],
 "metadata": {
  "kernelspec": {
   "display_name": "Python 3",
   "language": "python",
   "name": "python3"
  },
  "language_info": {
   "codemirror_mode": {
    "name": "ipython",
    "version": 3
   },
   "file_extension": ".py",
   "mimetype": "text/x-python",
   "name": "python",
   "nbconvert_exporter": "python",
   "pygments_lexer": "ipython3",
   "version": "3.7.9"
  }
 },
 "nbformat": 4,
 "nbformat_minor": 4
}
