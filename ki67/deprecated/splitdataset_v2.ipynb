{
 "cells": [
  {
   "cell_type": "code",
   "execution_count": 1,
   "metadata": {},
   "outputs": [],
   "source": [
    "from utils import convert2coco\n",
    "from utils import dataset_split\n",
    "from utils import dataset_analysis"
   ]
  },
  {
   "cell_type": "code",
   "execution_count": 2,
   "metadata": {},
   "outputs": [],
   "source": [
    "base = './data/ori'\n",
    "annotations = convert2coco(base)"
   ]
  },
  {
   "cell_type": "code",
   "execution_count": 3,
   "metadata": {},
   "outputs": [
    {
     "name": "stdout",
     "output_type": "stream",
     "text": [
      "The best error: 0.0015675939908796877\n",
      "The best error: 0.0013362167678603618\n",
      "The best error: 0.0011080581421764363\n",
      "The best error: 0.0006965233343231244\n",
      "The best error: 0.0003417283004523244\n",
      "The best error: 0.00019286006529224358\n",
      "The best error: 0.0001758275875362365\n",
      "The best error: 0.00016364124241476308\n",
      "The best error: 3.216095039177539e-05\n",
      "The best error: 1.5650759700978796e-05\n"
     ]
    }
   ],
   "source": [
    "split_dictionary = {\n",
    "    'train': 0.60,\n",
    "    'val': 0.20,\n",
    "    'test': 0.20\n",
    "}\n",
    "\n",
    "ann_split = dataset_split(annotations, split_dictionary, 10000)"
   ]
  },
  {
   "cell_type": "code",
   "execution_count": 4,
   "metadata": {},
   "outputs": [
    {
     "name": "stdout",
     "output_type": "stream",
     "text": [
      "-----------------------------------\n",
      "num_images         180\n",
      "num_objects      23139\n",
      "-----------------------------------\n",
      "num_images on each set\n",
      "\n",
      "train         108    0.600\n",
      "val            36    0.200\n",
      "test           36    0.200\n",
      "-----------------------------------\n",
      "num_objects on each set\n",
      "\n",
      "train       13908    0.601\n",
      "val          4650    0.201\n",
      "test         4581    0.198\n",
      "-----------------------------------\n",
      "Category: 1\n",
      "\n",
      "train        6806    0.600\n",
      "val          2275    0.201\n",
      "test         2257    0.199\n",
      "-----------------------------------\n",
      "Category: 2\n",
      "\n",
      "train        7102    0.602\n",
      "val          2375    0.201\n",
      "test         2324    0.197\n",
      "-----------------------------------\n"
     ]
    }
   ],
   "source": [
    "results = dataset_analysis(ann_split)"
   ]
  },
  {
   "cell_type": "code",
   "execution_count": null,
   "metadata": {},
   "outputs": [],
   "source": []
  }
 ],
 "metadata": {
  "kernelspec": {
   "display_name": "Python 3",
   "language": "python",
   "name": "python3"
  },
  "language_info": {
   "codemirror_mode": {
    "name": "ipython",
    "version": 3
   },
   "file_extension": ".py",
   "mimetype": "text/x-python",
   "name": "python",
   "nbconvert_exporter": "python",
   "pygments_lexer": "ipython3",
   "version": "3.7.9"
  }
 },
 "nbformat": 4,
 "nbformat_minor": 4
}
